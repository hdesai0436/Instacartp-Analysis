{
 "cells": [
  {
   "cell_type": "markdown",
   "id": "e383417b-3dd7-4f53-b961-18afb886dbf3",
   "metadata": {},
   "source": [
    "# 01. Importing libraries"
   ]
  },
  {
   "cell_type": "code",
   "execution_count": 1,
   "id": "3cafb23a-870e-43cd-abdb-aa8bf1e42f6f",
   "metadata": {},
   "outputs": [],
   "source": [
    "import pandas as pd\n",
    "import numpy as np\n",
    "import os"
   ]
  },
  {
   "cell_type": "markdown",
   "id": "14c51140-050e-4cdd-912d-306accb55be1",
   "metadata": {},
   "source": [
    "# 02 Data Types"
   ]
  },
  {
   "cell_type": "code",
   "execution_count": 6,
   "id": "860cac27-2d4c-4cc3-be57-9793d7e5f0e9",
   "metadata": {},
   "outputs": [],
   "source": [
    "x = 60"
   ]
  },
  {
   "cell_type": "code",
   "execution_count": 7,
   "id": "79c2b6cb-c467-4167-bb07-231f5182cb1c",
   "metadata": {},
   "outputs": [],
   "source": [
    "y = 40"
   ]
  },
  {
   "cell_type": "code",
   "execution_count": 8,
   "id": "16bdafc5-aab3-4567-b9a6-e364db5d3971",
   "metadata": {},
   "outputs": [],
   "source": [
    "z = x + y"
   ]
  },
  {
   "cell_type": "code",
   "execution_count": 9,
   "id": "0e8bc12f-53f3-4cac-986a-f8ee29737e31",
   "metadata": {},
   "outputs": [
    {
     "data": {
      "text/plain": [
       "100"
      ]
     },
     "execution_count": 9,
     "metadata": {},
     "output_type": "execute_result"
    }
   ],
   "source": [
    "z"
   ]
  },
  {
   "cell_type": "code",
   "execution_count": 10,
   "id": "688e0d84-e276-46f5-8f8e-6ded512c6cae",
   "metadata": {},
   "outputs": [],
   "source": [
    "a = 150"
   ]
  },
  {
   "cell_type": "code",
   "execution_count": 11,
   "id": "34bf01fa-7792-472c-b322-eabec9c90675",
   "metadata": {},
   "outputs": [],
   "source": [
    "b = 50"
   ]
  },
  {
   "cell_type": "code",
   "execution_count": 12,
   "id": "2fd7fa2f-ccbb-40d6-8cca-4a9f4ff89772",
   "metadata": {},
   "outputs": [],
   "source": [
    "c = a - b"
   ]
  },
  {
   "cell_type": "code",
   "execution_count": 13,
   "id": "b80b4248-7c26-4ba0-be84-c7851147189c",
   "metadata": {},
   "outputs": [
    {
     "data": {
      "text/plain": [
       "100"
      ]
     },
     "execution_count": 13,
     "metadata": {},
     "output_type": "execute_result"
    }
   ],
   "source": [
    "c"
   ]
  },
  {
   "cell_type": "code",
   "execution_count": null,
   "id": "cfa8363f-9483-4da8-a372-9f506771b775",
   "metadata": {},
   "outputs": [],
   "source": []
  },
  {
   "cell_type": "code",
   "execution_count": 14,
   "id": "752a99f8-5757-40cd-b4a6-fa10cda862cc",
   "metadata": {},
   "outputs": [],
   "source": [
    "# floating varibales"
   ]
  },
  {
   "cell_type": "code",
   "execution_count": 15,
   "id": "76eeb604-b362-48e9-ae22-220f2b6b602b",
   "metadata": {},
   "outputs": [],
   "source": [
    "d = 5.5"
   ]
  },
  {
   "cell_type": "code",
   "execution_count": 16,
   "id": "7e5eec22-55f8-40b7-a73f-3d97d43c9703",
   "metadata": {},
   "outputs": [],
   "source": [
    "e = 10.25"
   ]
  },
  {
   "cell_type": "code",
   "execution_count": 17,
   "id": "5f65be65-e8ed-4443-b285-dbf61ad51866",
   "metadata": {},
   "outputs": [],
   "source": [
    "q = e/d"
   ]
  },
  {
   "cell_type": "code",
   "execution_count": 18,
   "id": "2acb4738-d6dc-441e-9524-d74ba469b21a",
   "metadata": {},
   "outputs": [
    {
     "data": {
      "text/plain": [
       "1.8636363636363635"
      ]
     },
     "execution_count": 18,
     "metadata": {},
     "output_type": "execute_result"
    }
   ],
   "source": [
    "q"
   ]
  },
  {
   "cell_type": "code",
   "execution_count": null,
   "id": "dcbc62a0-83e3-4238-b65b-4c10d7929c99",
   "metadata": {},
   "outputs": [],
   "source": []
  },
  {
   "cell_type": "code",
   "execution_count": 19,
   "id": "080db667-64eb-4580-95cd-edc7df4dcd5c",
   "metadata": {},
   "outputs": [],
   "source": [
    "t = 85.98"
   ]
  },
  {
   "cell_type": "code",
   "execution_count": 20,
   "id": "83d67380-a249-4f97-9620-9c7b2ff003d4",
   "metadata": {},
   "outputs": [],
   "source": [
    "o = 694.78"
   ]
  },
  {
   "cell_type": "code",
   "execution_count": 22,
   "id": "48e306b4-8d78-467f-a535-ca74ab0dee6c",
   "metadata": {},
   "outputs": [],
   "source": [
    "p = o / t"
   ]
  },
  {
   "cell_type": "code",
   "execution_count": 23,
   "id": "8a44eebb-f882-4dc9-a766-e25319aeb6e2",
   "metadata": {},
   "outputs": [
    {
     "data": {
      "text/plain": [
       "8.080716445685042"
      ]
     },
     "execution_count": 23,
     "metadata": {},
     "output_type": "execute_result"
    }
   ],
   "source": [
    "p "
   ]
  },
  {
   "cell_type": "code",
   "execution_count": null,
   "id": "40e58590-cee8-47cf-98a6-1d1155f08b03",
   "metadata": {},
   "outputs": [],
   "source": []
  },
  {
   "cell_type": "code",
   "execution_count": null,
   "id": "8d02ee3a-60a6-425b-9a4a-416c39958a2b",
   "metadata": {},
   "outputs": [],
   "source": []
  },
  {
   "cell_type": "code",
   "execution_count": 28,
   "id": "7af82fe7-3584-413b-bc7c-8b14c4093c13",
   "metadata": {},
   "outputs": [],
   "source": [
    "l = \"hello \"\n"
   ]
  },
  {
   "cell_type": "code",
   "execution_count": 29,
   "id": "6f17e28e-8614-4629-ac05-8e41aefae28a",
   "metadata": {},
   "outputs": [],
   "source": [
    "u = \"how are you \""
   ]
  },
  {
   "cell_type": "code",
   "execution_count": 30,
   "id": "0221885a-0e56-4f36-8069-af15b6e6b557",
   "metadata": {},
   "outputs": [],
   "source": [
    "f = l + u"
   ]
  },
  {
   "cell_type": "code",
   "execution_count": 31,
   "id": "4fe6ee7c-0f1f-49fb-8592-62d2403f78ac",
   "metadata": {},
   "outputs": [
    {
     "data": {
      "text/plain": [
       "'hello how are you '"
      ]
     },
     "execution_count": 31,
     "metadata": {},
     "output_type": "execute_result"
    }
   ],
   "source": [
    "f"
   ]
  },
  {
   "cell_type": "code",
   "execution_count": null,
   "id": "4c5e92b3-a1cf-481b-8d74-a6aa678d1d87",
   "metadata": {},
   "outputs": [],
   "source": []
  }
 ],
 "metadata": {
  "kernelspec": {
   "display_name": "Python 3 (ipykernel)",
   "language": "python",
   "name": "python3"
  },
  "language_info": {
   "codemirror_mode": {
    "name": "ipython",
    "version": 3
   },
   "file_extension": ".py",
   "mimetype": "text/x-python",
   "name": "python",
   "nbconvert_exporter": "python",
   "pygments_lexer": "ipython3",
   "version": "3.12.4"
  }
 },
 "nbformat": 4,
 "nbformat_minor": 5
}
